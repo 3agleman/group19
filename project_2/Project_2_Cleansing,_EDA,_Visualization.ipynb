{
  "nbformat": 4,
  "nbformat_minor": 0,
  "metadata": {
    "colab": {
      "provenance": [],
      "authorship_tag": "ABX9TyOPJxiD2OcfP4uvvceHZdxS",
      "include_colab_link": true
    },
    "kernelspec": {
      "name": "python3",
      "display_name": "Python 3"
    },
    "language_info": {
      "name": "python"
    }
  },
  "cells": [
    {
      "cell_type": "markdown",
      "metadata": {
        "id": "view-in-github",
        "colab_type": "text"
      },
      "source": [
        "<a href=\"https://colab.research.google.com/github/DS3001/group19/blob/main/Project_2_Cleansing%2C_EDA%2C_Visualization.ipynb\" target=\"_parent\"><img src=\"https://colab.research.google.com/assets/colab-badge.svg\" alt=\"Open In Colab\"/></a>"
      ]
    },
    {
      "cell_type": "markdown",
      "source": [
        "# Cleansing Training & Testing Data"
      ],
      "metadata": {
        "id": "DyeaN57TMHvN"
      }
    },
    {
      "cell_type": "code",
      "execution_count": 37,
      "metadata": {
        "id": "Kan09Yy6MBRj"
      },
      "outputs": [],
      "source": [
        "import pandas as pd\n",
        "import numpy as np\n",
        "df_train = pd.read_csv('https://raw.githubusercontent.com/aniishap/group-19/main/project_2/data/testing_data.csv')\n",
        "df_test = pd.read_csv('https://raw.githubusercontent.com/aniishap/group-19/main/project_2/data/training_data.csv')"
      ]
    },
    {
      "cell_type": "code",
      "source": [
        "df_train.isnull().sum() #  bmi column has a total of 42 missing values"
      ],
      "metadata": {
        "colab": {
          "base_uri": "https://localhost:8080/"
        },
        "id": "Qy9oeRVNNG-h",
        "outputId": "3d7ef49d-420b-46e3-8fd4-181a77d89eed"
      },
      "execution_count": 38,
      "outputs": [
        {
          "output_type": "execute_result",
          "data": {
            "text/plain": [
              "Unnamed: 0            0\n",
              "id                    0\n",
              "gender                0\n",
              "age                   0\n",
              "hypertension          0\n",
              "heart_disease         0\n",
              "ever_married          0\n",
              "work_type             0\n",
              "Residence_type        0\n",
              "avg_glucose_level     0\n",
              "bmi                  42\n",
              "smoking_status        0\n",
              "stroke                0\n",
              "dtype: int64"
            ]
          },
          "metadata": {},
          "execution_count": 38
        }
      ]
    },
    {
      "cell_type": "code",
      "source": [
        "df_test.isnull().sum() #  bmi column has a total of 159 missing values"
      ],
      "metadata": {
        "colab": {
          "base_uri": "https://localhost:8080/"
        },
        "id": "iCrISkPXOZiM",
        "outputId": "1d8e00eb-b65f-470a-dcc2-8c0b746975bb"
      },
      "execution_count": 39,
      "outputs": [
        {
          "output_type": "execute_result",
          "data": {
            "text/plain": [
              "Unnamed: 0             0\n",
              "id                     0\n",
              "gender                 0\n",
              "age                    0\n",
              "hypertension           0\n",
              "heart_disease          0\n",
              "ever_married           0\n",
              "work_type              0\n",
              "Residence_type         0\n",
              "avg_glucose_level      0\n",
              "bmi                  159\n",
              "smoking_status         0\n",
              "stroke                 0\n",
              "dtype: int64"
            ]
          },
          "metadata": {},
          "execution_count": 39
        }
      ]
    },
    {
      "cell_type": "code",
      "source": [
        "# To avoid introducing bias, I am going to drop the NA values from the training and testing data sets instead of imputing averages for the bmi column\n",
        "df_train.dropna(subset=['bmi'], inplace=True)\n",
        "df_test.dropna(subset=['bmi'], inplace=True)\n",
        "df_train.isnull().sum() # No more NA Values"
      ],
      "metadata": {
        "colab": {
          "base_uri": "https://localhost:8080/"
        },
        "id": "-xRW33dwQgP2",
        "outputId": "f2914451-be4d-4cad-e239-a405c2bb74b8"
      },
      "execution_count": 40,
      "outputs": [
        {
          "output_type": "execute_result",
          "data": {
            "text/plain": [
              "Unnamed: 0           0\n",
              "id                   0\n",
              "gender               0\n",
              "age                  0\n",
              "hypertension         0\n",
              "heart_disease        0\n",
              "ever_married         0\n",
              "work_type            0\n",
              "Residence_type       0\n",
              "avg_glucose_level    0\n",
              "bmi                  0\n",
              "smoking_status       0\n",
              "stroke               0\n",
              "dtype: int64"
            ]
          },
          "metadata": {},
          "execution_count": 40
        }
      ]
    },
    {
      "cell_type": "code",
      "source": [
        "df_test.isnull().sum() # No more NA values"
      ],
      "metadata": {
        "colab": {
          "base_uri": "https://localhost:8080/"
        },
        "id": "afO3OaXYRJFm",
        "outputId": "530bca66-8f2e-4576-8746-6c47e8b4b579"
      },
      "execution_count": 41,
      "outputs": [
        {
          "output_type": "execute_result",
          "data": {
            "text/plain": [
              "Unnamed: 0           0\n",
              "id                   0\n",
              "gender               0\n",
              "age                  0\n",
              "hypertension         0\n",
              "heart_disease        0\n",
              "ever_married         0\n",
              "work_type            0\n",
              "Residence_type       0\n",
              "avg_glucose_level    0\n",
              "bmi                  0\n",
              "smoking_status       0\n",
              "stroke               0\n",
              "dtype: int64"
            ]
          },
          "metadata": {},
          "execution_count": 41
        }
      ]
    },
    {
      "cell_type": "code",
      "source": [
        "# Drop 'Unnamed:0' and 'id' columns because they are not useful in our study\n",
        "list=['Unnamed: 0', 'id']\n",
        "df_train=df_train.drop(list,axis=1)\n",
        "df_test=df_test.drop(list,axis=1)"
      ],
      "metadata": {
        "id": "SBbNi3r8RPfx"
      },
      "execution_count": 42,
      "outputs": []
    },
    {
      "cell_type": "code",
      "source": [
        "unknown_count_train = (df_train['smoking_status'] == 'Unknown').sum()\n",
        "print(unknown_count_train)\n",
        "# Do we want to drop all 'Unknown' rows?\n",
        "# There are only supposed to be 3 levels to this variable"
      ],
      "metadata": {
        "colab": {
          "base_uri": "https://localhost:8080/"
        },
        "id": "YT2oja2JT5-F",
        "outputId": "f470319f-5755-47cc-b1fe-643658b8828e"
      },
      "execution_count": 43,
      "outputs": [
        {
          "output_type": "stream",
          "name": "stdout",
          "text": [
            "288\n"
          ]
        }
      ]
    },
    {
      "cell_type": "code",
      "source": [
        "unknown_count_test = (df_test['smoking_status'] == 'Unknown').sum()\n",
        "print(unknown_count_test)"
      ],
      "metadata": {
        "colab": {
          "base_uri": "https://localhost:8080/"
        },
        "id": "MnyZYETEUvAM",
        "outputId": "a2d47400-622d-4c43-f86e-f6dca6830827"
      },
      "execution_count": 44,
      "outputs": [
        {
          "output_type": "stream",
          "name": "stdout",
          "text": [
            "1195\n"
          ]
        }
      ]
    },
    {
      "cell_type": "code",
      "source": [
        "# These are a lot of Unknown values, and it wouldn't make sense to drop all the rows.\n",
        "# I think in this case, we can impute average values to replace 'Unknown' because\n",
        "# smoking can be a big health influence on other factors. There could exist some\n",
        "# response bias and cases where smoking info is deliberately not recorded, so\n",
        "# to address that, we can infer the smoking status based on data from other\n",
        "# variables\n",
        "\n",
        "print(df_train)"
      ],
      "metadata": {
        "colab": {
          "base_uri": "https://localhost:8080/"
        },
        "id": "Bf1Vs5ahVKT5",
        "outputId": "7ec710f2-1772-405b-a035-e0054f376d4a"
      },
      "execution_count": 45,
      "outputs": [
        {
          "output_type": "stream",
          "name": "stdout",
          "text": [
            "      gender   age  hypertension  heart_disease ever_married      work_type  \\\n",
            "0       Male  58.0             1              0          Yes        Private   \n",
            "1     Female   8.0             0              0           No        Private   \n",
            "2     Female  70.0             0              0          Yes        Private   \n",
            "3     Female  47.0             0              0          Yes        Private   \n",
            "4     Female  74.0             1              0          Yes  Self-employed   \n",
            "...      ...   ...           ...            ...          ...            ...   \n",
            "1015  Female  48.0             0              0          Yes        Private   \n",
            "1016    Male  78.0             0              0          Yes  Self-employed   \n",
            "1019  Female  73.0             0              0          Yes  Self-employed   \n",
            "1020    Male  57.0             0              0          Yes        Private   \n",
            "1021  Female  75.0             0              0          Yes  Self-employed   \n",
            "\n",
            "     Residence_type  avg_glucose_level   bmi   smoking_status  stroke  \n",
            "0             Urban              87.96  39.2     never smoked       0  \n",
            "1             Urban             110.89  17.6          Unknown       0  \n",
            "2             Rural              69.04  35.9  formerly smoked       0  \n",
            "3             Urban             210.95  50.1          Unknown       0  \n",
            "4             Urban             205.84  54.6     never smoked       0  \n",
            "...             ...                ...   ...              ...     ...  \n",
            "1015          Urban              74.11  20.5     never smoked       1  \n",
            "1016          Urban             116.10  27.1     never smoked       1  \n",
            "1019          Urban              70.94  34.4     never smoked       1  \n",
            "1020          Urban              86.30  31.7          Unknown       1  \n",
            "1021          Rural              78.80  29.3  formerly smoked       1  \n",
            "\n",
            "[981 rows x 11 columns]\n"
          ]
        }
      ]
    }
  ]
}
